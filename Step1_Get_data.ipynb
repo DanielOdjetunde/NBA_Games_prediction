{
 "cells": [
  {
   "cell_type": "code",
   "execution_count": 1,
   "id": "f607d485",
   "metadata": {},
   "outputs": [],
   "source": [
    "import os\n",
    "from bs4 import BeautifulSoup\n",
    "from playwright.async_api import async_playwright, TimeoutError as PlaywrightTimeout\n",
    "import time"
   ]
  },
  {
   "cell_type": "code",
   "execution_count": 2,
   "id": "0d526912",
   "metadata": {},
   "outputs": [],
   "source": [
    "!playwright install"
   ]
  },
  {
   "cell_type": "code",
   "execution_count": 4,
   "id": "6380e880",
   "metadata": {},
   "outputs": [],
   "source": [
    "SEASONS = list(range(2016,2024))"
   ]
  },
  {
   "cell_type": "code",
   "execution_count": 5,
   "id": "e53cc69e",
   "metadata": {},
   "outputs": [],
   "source": [
    "DATA_DIR = \"data2\"\n",
    "STANDINGS_DIR = os.path.join(DATA_DIR, \"Standings\")\n",
    "SCORES_DIR = os.path.join(DATA_DIR, \"Scores\")"
   ]
  },
  {
   "cell_type": "code",
   "execution_count": 6,
   "id": "a573ddb5",
   "metadata": {},
   "outputs": [],
   "source": [
    "async def get_html(url, selector, sleep=4, retries=3):\n",
    "    html = None\n",
    "    for i in range (1, retries+1):\n",
    "        #We need to pause the scraping for a certain number of seconds, otherwise it would be a high frequency scrapping and the site might ban us\n",
    "        time.sleep(sleep*i)\n",
    "        \n",
    "        try:\n",
    "            async with async_playwright() as p:\n",
    "                browser = await p.firefox.launch()\n",
    "                page = await browser.new_page()\n",
    "                await page.goto(url)\n",
    "                print(await page.title())\n",
    "                html = await page.inner_html(selector)\n",
    "        except PlaywrightTimeout:\n",
    "            print(f\"Timeout error on {url}\")\n",
    "            \n",
    "            continue\n",
    "        else:\n",
    "            break\n",
    "    return html"
   ]
  },
  {
   "cell_type": "code",
   "execution_count": 8,
   "id": "30240250",
   "metadata": {},
   "outputs": [],
   "source": [
    "async def scrape_season(season):\n",
    "    url = f\"https://www.basketball-reference.com/leagues/NBA_{season}_games.html\"\n",
    "    html = await get_html(url, \"#content .filter\")\n",
    "    \n",
    "    soup = BeautifulSoup(html)\n",
    "    links = soup.find_all(\"a\")\n",
    "    href = [l[\"href\"] for l in links]\n",
    "    standings_pages = [f\"https://basketball-reference.com{l}\" for l in href]\n",
    "    \n",
    "    for url in standings_pages:\n",
    "        save_path = os.path.join(STANDINGS_DIR, url.split(\"/\")[-1])\n",
    "        if os.path.exists(save_path):\n",
    "            continue\n",
    "        html = await get_html(url, \"#all_schedule\")\n",
    "        \n",
    "        with open(save_path, \"w+\") as f:\n",
    "            f.write(html)"
   ]
  },
  {
   "cell_type": "code",
   "execution_count": 9,
   "id": "7b0927ea",
   "metadata": {},
   "outputs": [
    {
     "name": "stdout",
     "output_type": "stream",
     "text": [
      "2015-16 NBA Schedule | Basketball-Reference.com\n",
      "2016-17 NBA Schedule | Basketball-Reference.com\n",
      "2017-18 NBA Schedule | Basketball-Reference.com\n",
      "2018-19 NBA Schedule | Basketball-Reference.com\n",
      "2019-20 NBA Schedule | Basketball-Reference.com\n",
      "2020-21 NBA Schedule | Basketball-Reference.com\n",
      "2021-22 NBA Schedule | Basketball-Reference.com\n",
      "2022-23 NBA Schedule | Basketball-Reference.com\n"
     ]
    }
   ],
   "source": [
    "for season in SEASONS:\n",
    "    await scrape_season(season)"
   ]
  },
  {
   "cell_type": "code",
   "execution_count": 10,
   "id": "56df5ae9",
   "metadata": {},
   "outputs": [
    {
     "name": "stdout",
     "output_type": "stream",
     "text": [
      "['NBA_2016_games-april.html', 'NBA_2016_games-december.html', 'NBA_2016_games-february.html', 'NBA_2016_games-january.html', 'NBA_2016_games-june.html', 'NBA_2016_games-march.html', 'NBA_2016_games-may.html', 'NBA_2016_games-november.html', 'NBA_2016_games-october.html', 'NBA_2017_games-april.html', 'NBA_2017_games-december.html', 'NBA_2017_games-february.html', 'NBA_2017_games-january.html', 'NBA_2017_games-june.html', 'NBA_2017_games-march.html', 'NBA_2017_games-may.html', 'NBA_2017_games-november.html', 'NBA_2017_games-october.html', 'NBA_2018_games-april.html', 'NBA_2018_games-december.html', 'NBA_2018_games-february.html', 'NBA_2018_games-january.html', 'NBA_2018_games-june.html', 'NBA_2018_games-march.html', 'NBA_2018_games-may.html', 'NBA_2018_games-november.html', 'NBA_2018_games-october.html', 'NBA_2019_games-april.html', 'NBA_2019_games-december.html', 'NBA_2019_games-february.html', 'NBA_2019_games-january.html', 'NBA_2019_games-june.html', 'NBA_2019_games-march.html', 'NBA_2019_games-may.html', 'NBA_2019_games-november.html', 'NBA_2019_games-october.html', 'NBA_2020_games-august.html', 'NBA_2020_games-december.html', 'NBA_2020_games-february.html', 'NBA_2020_games-january.html', 'NBA_2020_games-july.html', 'NBA_2020_games-march.html', 'NBA_2020_games-november.html', 'NBA_2020_games-october-2019.html', 'NBA_2020_games-october-2020.html', 'NBA_2020_games-september.html', 'NBA_2021_games-april.html', 'NBA_2021_games-december.html', 'NBA_2021_games-february.html', 'NBA_2021_games-january.html', 'NBA_2021_games-july.html', 'NBA_2021_games-june.html', 'NBA_2021_games-march.html', 'NBA_2021_games-may.html', 'NBA_2022_games-april.html', 'NBA_2022_games-december.html', 'NBA_2022_games-february.html', 'NBA_2022_games-january.html', 'NBA_2022_games-june.html', 'NBA_2022_games-march.html', 'NBA_2022_games-may.html', 'NBA_2022_games-november.html', 'NBA_2022_games-october.html', 'NBA_2023_games-april.html', 'NBA_2023_games-december.html', 'NBA_2023_games-february.html', 'NBA_2023_games-january.html', 'NBA_2023_games-june.html', 'NBA_2023_games-march.html', 'NBA_2023_games-may.html', 'NBA_2023_games-november.html', 'NBA_2023_games-october.html']\n"
     ]
    }
   ],
   "source": [
    "standings_files = os.listdir(STANDINGS_DIR)\n",
    "print(standings_files)"
   ]
  },
  {
   "cell_type": "code",
   "execution_count": 11,
   "id": "a30d59f1",
   "metadata": {},
   "outputs": [],
   "source": [
    "async def scrape_game(standings_file):\n",
    "    with open(standings_file, \"r\") as f:\n",
    "        html = f.read()\n",
    "    soup = BeautifulSoup(html)\n",
    "    links = soup.find_all(\"a\")\n",
    "    hrefs = [l.get(\"href\") for l in links]\n",
    "    box_scores  = [l for l in hrefs if l and \"boxscore\" in l and \".html\" in l]\n",
    "    box_scores  = [f\"https://basketball-reference.com{l}\" for l in box_scores]\n",
    "\n",
    "    for url in box_scores:\n",
    "        save_path = os.path.join(SCORES_DIR, url.split(\"/\")[-1])\n",
    "        if os.path.exists(save_path):\n",
    "            continue\n",
    "        html = await get_html(url, \"#content\")\n",
    "        if not html:\n",
    "            continue\n",
    "        with open(save_path, \"w+\", encoding=\"utf-8\") as f:\n",
    "            f.write(html)"
   ]
  },
  {
   "cell_type": "code",
   "execution_count": null,
   "id": "a567b976",
   "metadata": {},
   "outputs": [],
   "source": [
    "for f in standings_files:\n",
    "    filepath = os.path.join(STANDINGS_DIR, f)\n",
    "    await scrape_game(filepath)"
   ]
  }
 ],
 "metadata": {
  "kernelspec": {
   "display_name": "Python 3.9 (XPython)",
   "language": "python",
   "name": "xpython"
  },
  "language_info": {
   "file_extension": ".py",
   "mimetype": "text/x-python",
   "name": "python",
   "version": "3.9.13"
  }
 },
 "nbformat": 4,
 "nbformat_minor": 5
}
